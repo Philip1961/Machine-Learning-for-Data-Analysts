{
  "nbformat": 4,
  "nbformat_minor": 0,
  "metadata": {
    "colab": {
      "provenance": [],
      "authorship_tag": "ABX9TyPrFLVplGa3IM8ZUFZLndDE",
      "include_colab_link": true
    },
    "kernelspec": {
      "name": "python3",
      "display_name": "Python 3"
    },
    "language_info": {
      "name": "python"
    }
  },
  "cells": [
    {
      "cell_type": "markdown",
      "metadata": {
        "id": "view-in-github",
        "colab_type": "text"
      },
      "source": [
        "<a href=\"https://colab.research.google.com/github/Philip1961/Machine-Learning-for-Data-Analysts/blob/main/BubbleSort.ipynb\" target=\"_parent\"><img src=\"https://colab.research.google.com/assets/colab-badge.svg\" alt=\"Open In Colab\"/></a>"
      ]
    },
    {
      "cell_type": "code",
      "execution_count": null,
      "metadata": {
        "id": "fJrQlLw13EpZ"
      },
      "outputs": [],
      "source": []
    },
    {
      "source": [
        "def bubble_sort(arr):\n",
        "    \"\"\"\n",
        "    Sorts a list of numbers in ascending order using the Bubble Sort algorithm.\n",
        "\n",
        "    Args:\n",
        "        arr: The list of numbers to be sorted.\n",
        "\n",
        "    Returns:\n",
        "        The sorted list.\n",
        "    \"\"\"\n",
        "    n = len(arr)\n",
        "    # Iterate through the list\n",
        "    for i in range(n):\n",
        "        # Flag to optimize: if no swaps happen in a pass, the list is sorted\n",
        "        swapped = False\n",
        "        # Last i elements are already in place, so we don't need to check them\n",
        "        for j in range(0, n - i - 1):\n",
        "            # Compare adjacent elements\n",
        "            if arr[j] > arr[j + 1]:\n",
        "                # Swap if the current element is greater than the next element\n",
        "                arr[j], arr[j + 1] = arr[j + 1], arr[j]\n",
        "                swapped = True\n",
        "        # If no elements were swapped in this pass, the list is sorted\n",
        "        if not swapped:\n",
        "            break\n",
        "    return arr\n",
        "\n",
        "# You can modify this list to test the bubble sort function\n",
        "my_list = [64, 34, 25, 12, 22, 11, 90, 5, 25, 100, 1, 3.14159265]\n",
        "\n",
        "# Call the bubble_sort function with your list\n",
        "sorted_list = bubble_sort(my_list)\n",
        "\n",
        "# Print the sorted list\n",
        "print(\"Sorted list:\", sorted_list)"
      ],
      "cell_type": "code",
      "metadata": {
        "id": "w7DtHwAj3ZD-"
      },
      "execution_count": null,
      "outputs": []
    }
  ]
}