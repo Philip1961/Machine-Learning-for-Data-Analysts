{
  "nbformat": 4,
  "nbformat_minor": 0,
  "metadata": {
    "colab": {
      "provenance": [],
      "collapsed_sections": [],
      "include_colab_link": true
    },
    "kernelspec": {
      "name": "python3",
      "display_name": "Python 3"
    }
  },
  "cells": [
    {
      "cell_type": "markdown",
      "metadata": {
        "id": "view-in-github",
        "colab_type": "text"
      },
      "source": [
        "<a href=\"https://colab.research.google.com/github/Philip1961/Machine-Learning-for-Data-Analysts/blob/main/PDA_Session_1.ipynb\" target=\"_parent\"><img src=\"https://colab.research.google.com/assets/colab-badge.svg\" alt=\"Open In Colab\"/></a>"
      ]
    },
    {
      "cell_type": "code",
      "metadata": {
        "id": "R4a7Hju8YYIA",
        "colab": {
          "base_uri": "https://localhost:8080/",
          "height": 34
        },
        "outputId": "cd6fecb0-e733-4084-d823-6ffb777eef89"
      },
      "source": [
        "print(\"Hello, World\")"
      ],
      "execution_count": null,
      "outputs": [
        {
          "output_type": "stream",
          "text": [
            "Hello, World\n"
          ],
          "name": "stdout"
        }
      ]
    },
    {
      "cell_type": "code",
      "source": [
        "from google.colab import drive\n",
        "drive.mount('/content/drive')"
      ],
      "metadata": {
        "id": "XUso9xdVUVWG",
        "colab": {
          "base_uri": "https://localhost:8080/"
        },
        "outputId": "0fcd5fee-7cda-4e65-9fa3-6737f1f9533b"
      },
      "execution_count": 1,
      "outputs": [
        {
          "output_type": "stream",
          "name": "stdout",
          "text": [
            "Mounted at /content/drive\n"
          ]
        }
      ]
    },
    {
      "cell_type": "markdown",
      "metadata": {
        "id": "qv1C23tHcdRA"
      },
      "source": [
        "Hello World - but this is a text cell\n"
      ]
    },
    {
      "cell_type": "markdown",
      "metadata": {
        "id": "LQmiZoMreohH"
      },
      "source": [
        "Strings"
      ]
    },
    {
      "cell_type": "code",
      "metadata": {
        "id": "3BqOkV4Pc5j5",
        "colab": {
          "base_uri": "https://localhost:8080/"
        },
        "outputId": "3e515889-3d4f-46bb-cd92-d5df7d67c67f"
      },
      "source": [
        "#@title\n",
        "employee_name = \"Miles Davis\"\n",
        "employee_email = \"miles.davis@bpp.com\"\n",
        "print(\"The employee name is \" + employee_name)\n",
        "print(\"The employee email is \" + employee_email)\n"
      ],
      "execution_count": 2,
      "outputs": [
        {
          "output_type": "stream",
          "name": "stdout",
          "text": [
            "The employee name is Miles Davis\n",
            "The employee email is miles.davis@bpp.com\n"
          ]
        }
      ]
    },
    {
      "cell_type": "markdown",
      "metadata": {
        "id": "vTD952BGeqqe"
      },
      "source": [
        "Numbers and Operators\n"
      ]
    },
    {
      "cell_type": "code",
      "metadata": {
        "id": "jNrppg5Ad_U6",
        "colab": {
          "base_uri": "https://localhost:8080/",
          "height": 103
        },
        "outputId": "c7080083-28cf-463c-f8da-9fe993acc801"
      },
      "source": [
        "x = 5\n",
        "y = 3\n",
        "print(x + y)   # x plus y\n",
        "print(x - y)   # x minus y\n",
        "print(x * y)   # x multiplied by y\n",
        "print(x / y)   # x divided by y\n",
        "print(x ** y)  # x raised to the power y\n"
      ],
      "execution_count": null,
      "outputs": [
        {
          "output_type": "stream",
          "text": [
            "8\n",
            "2\n",
            "15\n",
            "1.6666666666666667\n",
            "125\n"
          ],
          "name": "stdout"
        }
      ]
    },
    {
      "cell_type": "markdown",
      "metadata": {
        "id": "5HD1RkYMexZv"
      },
      "source": [
        "Importing packages\n"
      ]
    },
    {
      "cell_type": "code",
      "metadata": {
        "id": "EZZPsq1ReCx9",
        "colab": {
          "base_uri": "https://localhost:8080/"
        },
        "outputId": "0997c063-7249-4138-ac6d-c636c498105e"
      },
      "source": [
        "import math\n",
        "x = 49\n",
        "print(math.sqrt(x))\n",
        "print()\n",
        "print(math.pi)"
      ],
      "execution_count": null,
      "outputs": [
        {
          "output_type": "stream",
          "name": "stdout",
          "text": [
            "7.0\n",
            "\n",
            "3.141592653589793\n"
          ]
        }
      ]
    },
    {
      "cell_type": "markdown",
      "metadata": {
        "id": "Xke0oBn_e4Le"
      },
      "source": [
        "Combining strings and numbers..."
      ]
    },
    {
      "cell_type": "code",
      "metadata": {
        "id": "TV0SCSlkeI4K",
        "colab": {
          "base_uri": "https://localhost:8080/",
          "height": 34
        },
        "outputId": "314b72f6-fe90-4e38-cf57-9bd2deae76d2"
      },
      "source": [
        "first_name = \"Bill\"\n",
        "last_name = \"Evans\"\n",
        "full_name = first_name + \" \" + last_name\n",
        "print(\"The full name is \" + full_name)\n"
      ],
      "execution_count": null,
      "outputs": [
        {
          "output_type": "stream",
          "text": [
            "The full name is Bill Evans\n"
          ],
          "name": "stdout"
        }
      ]
    },
    {
      "cell_type": "code",
      "metadata": {
        "id": "SKb5QwvdeTkn",
        "colab": {
          "base_uri": "https://localhost:8080/",
          "height": 34
        },
        "outputId": "56cae355-e1bd-40c1-a6f4-5c80f312e233"
      },
      "source": [
        "full_name = \"Oscar Peterson\"\n",
        "salary = 99000.00\n",
        "# error\n",
        "# print(\"Employee \" + full_name + \" has a salary of £\" + salary) \n",
        "#correct\n",
        "print(\"Employee \" + full_name + \" has a salary of £\" + str(salary))\n"
      ],
      "execution_count": null,
      "outputs": [
        {
          "output_type": "stream",
          "text": [
            "Employee Oscar Peterson has a salary of £99000.0\n"
          ],
          "name": "stdout"
        }
      ]
    }
  ]
}