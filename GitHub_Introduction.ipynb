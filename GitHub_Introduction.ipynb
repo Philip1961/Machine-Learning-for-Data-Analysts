{
  "nbformat": 4,
  "nbformat_minor": 0,
  "metadata": {
    "colab": {
      "name": "GitHub_Introduction.ipynb",
      "provenance": []
    },
    "kernelspec": {
      "name": "python3",
      "display_name": "Python 3"
    },
    "language_info": {
      "name": "python"
    }
  },
  "cells": [
    {
      "cell_type": "markdown",
      "source": [
        "# Import libraries"
      ],
      "metadata": {
        "id": "IpMEJNDEojxN"
      }
    },
    {
      "cell_type": "code",
      "execution_count": null,
      "metadata": {
        "id": "52oiz4NDnaYE"
      },
      "outputs": [],
      "source": [
        "import numpy as np"
      ]
    },
    {
      "cell_type": "markdown",
      "source": [
        "# Note the impoertance of NumPy data arrays"
      ],
      "metadata": {
        "id": "ooIcaJqGr3AV"
      }
    },
    {
      "cell_type": "code",
      "source": [
        "x = np.array([[1,2,3], [4,5,6], [7, 8, 9]])\n",
        "print(\"Array x is of shape: \", np.shape(x))\n",
        "print(\"The array x contains the following elements:\\n\", format(x))"
      ],
      "metadata": {
        "colab": {
          "base_uri": "https://localhost:8080/"
        },
        "id": "Kc5dIeznr2ja",
        "outputId": "dd2abbd7-beae-4444-812f-2ca5b1ea1a23"
      },
      "execution_count": null,
      "outputs": [
        {
          "output_type": "stream",
          "name": "stdout",
          "text": [
            "Array x is of shape:  (3, 3)\n",
            "The array x contains the following elements:\n",
            " [[1 2 3]\n",
            " [4 5 6]\n",
            " [7 8 9]]\n"
          ]
        }
      ]
    },
    {
      "cell_type": "markdown",
      "source": [
        "# So-called 'Sparse Arrays' are important in ML:"
      ],
      "metadata": {
        "id": "G9PNz6QFuV2R"
      }
    },
    {
      "cell_type": "code",
      "source": [
        "#scipi is a collection of functions for scientific computing\n",
        "from scipy import sparse\n",
        "#Create a 2D array - the identity matrix - with the leading diagonal as ones and ll else as 0s\n",
        "#eye':  Identity matrix\n",
        "eye = np.eye(4)\n",
        "print(\"Here is an Identity matrix: \\n\", eye)\n",
        "#Now convert to CSR (compressed sparse row)\n",
        "#Only the nonzero entries are stored\n",
        "sparse_matrix=sparse.csr_matrix(eye)\n",
        "print(\"ScPy sparse matrix: \\n\", (sparse_matrix))\n"
      ],
      "metadata": {
        "colab": {
          "base_uri": "https://localhost:8080/"
        },
        "id": "iHqiyC74ucFP",
        "outputId": "14c42fc5-2b42-4c80-de90-31f447c090db"
      },
      "execution_count": null,
      "outputs": [
        {
          "output_type": "stream",
          "name": "stdout",
          "text": [
            "Here is an Identity matrix: \n",
            " [[1. 0. 0. 0.]\n",
            " [0. 1. 0. 0.]\n",
            " [0. 0. 1. 0.]\n",
            " [0. 0. 0. 1.]]\n",
            "ScPy sparse matrix: \n",
            "   (0, 0)\t1.0\n",
            "  (1, 1)\t1.0\n",
            "  (2, 2)\t1.0\n",
            "  (3, 3)\t1.0\n"
          ]
        }
      ]
    },
    {
      "cell_type": "markdown",
      "source": [
        "#Creating the same sparse matrix using COO (COOrdinate) format\n",
        "Also known as the ijv or triplet format\n",
        "\n",
        "---\n",
        "\n",
        "\n",
        "\n",
        "---\n",
        "\n"
      ],
      "metadata": {
        "id": "AcT6ZL6Sxj1f"
      }
    },
    {
      "cell_type": "code",
      "source": [
        "import numpy as np\n",
        "data=np.ones(4)\n",
        "row_indices=np.arange(4)\n",
        "col_indices=np.arange(4)\n",
        "eye_coo=sparse.coo_matrix((data, (row_indices, col_indices)))\n",
        "print(\"COO representation:\\n\", eye_coo)"
      ],
      "metadata": {
        "colab": {
          "base_uri": "https://localhost:8080/"
        },
        "id": "XJKc8i8rypWq",
        "outputId": "8c8ae0e9-9fc5-466f-e5e9-678a35815d83"
      },
      "execution_count": null,
      "outputs": [
        {
          "output_type": "stream",
          "name": "stdout",
          "text": [
            "COO representation:\n",
            "   (0, 0)\t1.0\n",
            "  (1, 1)\t1.0\n",
            "  (2, 2)\t1.0\n",
            "  (3, 3)\t1.0\n"
          ]
        }
      ]
    }
  ]
}