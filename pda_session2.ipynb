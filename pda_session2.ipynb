{
  "nbformat": 4,
  "nbformat_minor": 0,
  "metadata": {
    "colab": {
      "provenance": [],
      "authorship_tag": "ABX9TyO12v5+kwhezH/kN6WUxybv",
      "include_colab_link": true
    },
    "kernelspec": {
      "name": "python3",
      "display_name": "Python 3"
    },
    "language_info": {
      "name": "python"
    }
  },
  "cells": [
    {
      "cell_type": "markdown",
      "metadata": {
        "id": "view-in-github",
        "colab_type": "text"
      },
      "source": [
        "<a href=\"https://colab.research.google.com/github/Philip1961/Machine-Learning-for-Data-Analysts/blob/main/pda_session2.ipynb\" target=\"_parent\"><img src=\"https://colab.research.google.com/assets/colab-badge.svg\" alt=\"Open In Colab\"/></a>"
      ]
    },
    {
      "cell_type": "code",
      "execution_count": null,
      "metadata": {
        "colab": {
          "base_uri": "https://localhost:8080/"
        },
        "id": "FyAUh9QGYfJo",
        "outputId": "ea4d01f1-4cd3-4ccc-c233-9e248dbd518e"
      },
      "outputs": [
        {
          "output_type": "stream",
          "name": "stdout",
          "text": [
            "this works\n"
          ]
        }
      ],
      "source": [
        "# Multiple lines of comment\n",
        "''' Text\n",
        "Text\n",
        "Text\n",
        "'''\n",
        "print(\"this works\")"
      ]
    },
    {
      "cell_type": "code",
      "source": [
        "# examples of lists\n",
        "colours = ['red', 'green', 'blue']\n",
        "print (\"The colour is:\", colours[0])  #first element is references as the 0 element\n",
        "colours[-1]"
      ],
      "metadata": {
        "colab": {
          "base_uri": "https://localhost:8080/",
          "height": 53
        },
        "id": "fCrkL5u-ZRLE",
        "outputId": "529f559a-1f74-41c8-8392-f88fdf8fb29b"
      },
      "execution_count": null,
      "outputs": [
        {
          "output_type": "stream",
          "name": "stdout",
          "text": [
            "The colour is: red\n"
          ]
        },
        {
          "output_type": "execute_result",
          "data": {
            "text/plain": [
              "'blue'"
            ],
            "application/vnd.google.colaboratory.intrinsic+json": {
              "type": "string"
            }
          },
          "metadata": {},
          "execution_count": 8
        }
      ]
    },
    {
      "cell_type": "code",
      "source": [
        "# More examples of lists.  Items, ranges\n",
        "ClassScores = [100, 20, 30, 15, 70, 45, 30]\n",
        "ClassScores[0]\n",
        "ClassScores[1]\n",
        "ClassScores[3:20] # what will this do?\n",
        "ClassScores[1:4]\n",
        "ClassScores[3:]\n",
        "ClassScores[:3]"
      ],
      "metadata": {
        "colab": {
          "base_uri": "https://localhost:8080/"
        },
        "id": "nFUjoD_eavtN",
        "outputId": "5ac4e6e3-e975-44e5-891f-17b15856b796"
      },
      "execution_count": null,
      "outputs": [
        {
          "output_type": "execute_result",
          "data": {
            "text/plain": [
              "[100, 20, 30]"
            ]
          },
          "metadata": {},
          "execution_count": 15
        }
      ]
    },
    {
      "cell_type": "code",
      "source": [
        "#Strings examples.  Single or double quotations\n",
        "# len(), uppler(), lower()\n",
        "MyName = \"philip lambert\"\n",
        "print(len(MyName))\n",
        "print(MyName.upper())\n",
        "print(MyName.lower())\n",
        "print(MyName.title())\n",
        "print(MyName.split(' ')) #split the name into two"
      ],
      "metadata": {
        "colab": {
          "base_uri": "https://localhost:8080/"
        },
        "id": "6KfSc0YBb8YG",
        "outputId": "59d229b9-2419-446f-cea7-332598e8e63c"
      },
      "execution_count": null,
      "outputs": [
        {
          "output_type": "stream",
          "name": "stdout",
          "text": [
            "14\n",
            "PHILIP LAMBERT\n",
            "philip lambert\n",
            "Philip Lambert\n",
            "['philip', 'lambert']\n"
          ]
        }
      ]
    },
    {
      "cell_type": "code",
      "source": [
        "# Boolean expressions.  True or False\n",
        "1 == 2\n",
        "1 != 2\n",
        "'Philip' == 'Peter'\n",
        "x = 10\n",
        "x < 5\n",
        "x >4 and x <11\n",
        "x > 11 or x >9\n",
        "\n"
      ],
      "metadata": {
        "colab": {
          "base_uri": "https://localhost:8080/"
        },
        "id": "XSdtQiiRdZCh",
        "outputId": "c2513131-ea7f-49ca-f8f8-b2b1ea8f20b6"
      },
      "execution_count": 3,
      "outputs": [
        {
          "output_type": "execute_result",
          "data": {
            "text/plain": [
              "True"
            ]
          },
          "metadata": {},
          "execution_count": 3
        }
      ]
    },
    {
      "cell_type": "code",
      "source": [
        "# Conditional statements.  NB indentations. NB colons\n",
        "\n",
        "StudentScore = 50\n",
        "if StudentScore > 50:\n",
        "  print(\"Pass\")\n",
        "else:\n",
        "  print(\"Fail\")\n",
        "\n",
        "StudentAttempt = 2\n",
        "if(StudentScore) >=70 and StudentAttempt == 1:\n",
        "  print(\"Distinction\")\n",
        "elif StudentScore > 50 and StudentAttempt >=1:\n",
        "  print(\"Pass\")\n",
        "else:\n",
        "  print(\"Fail\")\n",
        "\n"
      ],
      "metadata": {
        "id": "OkKR0Jnieb58"
      },
      "execution_count": null,
      "outputs": []
    },
    {
      "cell_type": "code",
      "source": [
        "# Loop statements.  Processing through a sequence\n",
        "# FOR\n",
        "StudentAges = [23, 21, 64, 23, 21, 22, 30]\n",
        "for item in StudentAges:\n",
        "  print(\"Student Age is:\", item)\n"
      ],
      "metadata": {
        "id": "xW5cb03riHIr",
        "outputId": "f7cc47bd-2c72-4d28-a4ff-07ac0b73ef41",
        "colab": {
          "base_uri": "https://localhost:8080/"
        }
      },
      "execution_count": 18,
      "outputs": [
        {
          "output_type": "stream",
          "name": "stdout",
          "text": [
            "Student Age is: 23\n",
            "Iteration is: 1\n",
            "Iteration is: 2\n",
            "Iteration is: 3\n",
            "Iteration is: 4\n",
            "Iteration is: 5\n",
            "Iteration is: 6\n",
            "Iteration is: 7\n",
            "Iteration is: 8\n",
            "Iteration is: 9\n",
            "Iteration is: 10\n",
            "Student Age is: 21\n",
            "Iteration is: 1\n",
            "Iteration is: 2\n",
            "Iteration is: 3\n",
            "Iteration is: 4\n",
            "Iteration is: 5\n",
            "Iteration is: 6\n",
            "Iteration is: 7\n",
            "Iteration is: 8\n",
            "Iteration is: 9\n",
            "Iteration is: 10\n",
            "Student Age is: 64\n",
            "Iteration is: 1\n",
            "Iteration is: 2\n",
            "Iteration is: 3\n",
            "Iteration is: 4\n",
            "Iteration is: 5\n",
            "Iteration is: 6\n",
            "Iteration is: 7\n",
            "Iteration is: 8\n",
            "Iteration is: 9\n",
            "Iteration is: 10\n",
            "Student Age is: 23\n",
            "Iteration is: 1\n",
            "Iteration is: 2\n",
            "Iteration is: 3\n",
            "Iteration is: 4\n",
            "Iteration is: 5\n",
            "Iteration is: 6\n",
            "Iteration is: 7\n",
            "Iteration is: 8\n",
            "Iteration is: 9\n",
            "Iteration is: 10\n",
            "Student Age is: 21\n",
            "Iteration is: 1\n",
            "Iteration is: 2\n",
            "Iteration is: 3\n",
            "Iteration is: 4\n",
            "Iteration is: 5\n",
            "Iteration is: 6\n",
            "Iteration is: 7\n",
            "Iteration is: 8\n",
            "Iteration is: 9\n",
            "Iteration is: 10\n",
            "Student Age is: 22\n",
            "Iteration is: 1\n",
            "Iteration is: 2\n",
            "Iteration is: 3\n",
            "Iteration is: 4\n",
            "Iteration is: 5\n",
            "Iteration is: 6\n",
            "Iteration is: 7\n",
            "Iteration is: 8\n",
            "Iteration is: 9\n",
            "Iteration is: 10\n",
            "Student Age is: 30\n",
            "Iteration is: 1\n",
            "Iteration is: 2\n",
            "Iteration is: 3\n",
            "Iteration is: 4\n",
            "Iteration is: 5\n",
            "Iteration is: 6\n",
            "Iteration is: 7\n",
            "Iteration is: 8\n",
            "Iteration is: 9\n",
            "Iteration is: 10\n"
          ]
        }
      ]
    },
    {
      "cell_type": "code",
      "source": [
        "# Loops - iterations\n",
        "# Loops\n",
        "i = 1\n",
        "\n",
        "while i <=10:\n",
        "    print(\"Iteration is:\", i)\n",
        "    i = i+1"
      ],
      "metadata": {
        "id": "gLIEZNtDkOLT",
        "outputId": "9b349fe1-5b36-4872-9211-257e989d8e29",
        "colab": {
          "base_uri": "https://localhost:8080/"
        }
      },
      "execution_count": 20,
      "outputs": [
        {
          "output_type": "stream",
          "name": "stdout",
          "text": [
            "Iteration is: 1\n",
            "Iteration is: 2\n",
            "Iteration is: 3\n",
            "Iteration is: 4\n",
            "Iteration is: 5\n",
            "Iteration is: 6\n",
            "Iteration is: 7\n",
            "Iteration is: 8\n",
            "Iteration is: 9\n",
            "Iteration is: 10\n"
          ]
        }
      ]
    }
  ]
}